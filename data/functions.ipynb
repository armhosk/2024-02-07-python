{
 "cells": [
  {
   "cell_type": "code",
   "execution_count": 1,
   "id": "603e9154-e507-44e5-b0cd-ad136d69bfbe",
   "metadata": {},
   "outputs": [],
   "source": [
    "# temperature (fahrenheit) -> celsius\n",
    "def fahr_to_celsius(temp):\n",
    "    return ((temp - 32) * (5/9))"
   ]
  },
  {
   "cell_type": "code",
   "execution_count": 2,
   "id": "cd053414-3a39-441b-bcb1-c61e066444ad",
   "metadata": {},
   "outputs": [
    {
     "data": {
      "text/plain": [
       "-1.1111111111111112"
      ]
     },
     "execution_count": 2,
     "metadata": {},
     "output_type": "execute_result"
    }
   ],
   "source": [
    "fahr_to_celsius(30)"
   ]
  },
  {
   "cell_type": "code",
   "execution_count": 6,
   "id": "327517f7-b10e-4c92-8511-91be117da567",
   "metadata": {},
   "outputs": [],
   "source": [
    "temp_celsius = fahr_to_celsius(100)"
   ]
  },
  {
   "cell_type": "code",
   "execution_count": 7,
   "id": "2c534e8a-92da-4aca-a2c6-1653217056b1",
   "metadata": {},
   "outputs": [
    {
     "data": {
      "text/plain": [
       "37.77777777777778"
      ]
     },
     "execution_count": 7,
     "metadata": {},
     "output_type": "execute_result"
    }
   ],
   "source": [
    "temp_celsius"
   ]
  },
  {
   "cell_type": "code",
   "execution_count": 3,
   "id": "cf5761f6-09d1-43e2-9dcf-966b049e124c",
   "metadata": {},
   "outputs": [
    {
     "name": "stdout",
     "output_type": "stream",
     "text": [
      "print me\n"
     ]
    }
   ],
   "source": [
    "print('print me')"
   ]
  },
  {
   "cell_type": "code",
   "execution_count": 4,
   "id": "c2d805ed-5c85-4f60-bf9d-1ab518a31352",
   "metadata": {},
   "outputs": [],
   "source": [
    "def return_nothing():\n",
    "    print('hello')"
   ]
  },
  {
   "cell_type": "code",
   "execution_count": 5,
   "id": "226210d6-add2-48a6-872c-0f0a9b08829a",
   "metadata": {},
   "outputs": [
    {
     "name": "stdout",
     "output_type": "stream",
     "text": [
      "hello\n"
     ]
    }
   ],
   "source": [
    "return_nothing()"
   ]
  },
  {
   "cell_type": "code",
   "execution_count": 8,
   "id": "42ff7126-1860-4627-b058-09138f537afc",
   "metadata": {},
   "outputs": [
    {
     "name": "stdout",
     "output_type": "stream",
     "text": [
      "hello\n"
     ]
    }
   ],
   "source": [
    "nothing = return_nothing()"
   ]
  },
  {
   "cell_type": "code",
   "execution_count": 9,
   "id": "71ca2f22-13c9-40c1-9d55-bf80813b9eb1",
   "metadata": {},
   "outputs": [],
   "source": [
    "nothing"
   ]
  },
  {
   "cell_type": "code",
   "execution_count": 10,
   "id": "9d1dbbd6-72f3-4dba-97e0-434d3b9403d8",
   "metadata": {},
   "outputs": [
    {
     "data": {
      "text/plain": [
       "NoneType"
      ]
     },
     "execution_count": 10,
     "metadata": {},
     "output_type": "execute_result"
    }
   ],
   "source": [
    "type(nothing)"
   ]
  },
  {
   "cell_type": "code",
   "execution_count": 11,
   "id": "beb334eb-c99c-4f7c-a758-a3ee4785f43b",
   "metadata": {},
   "outputs": [],
   "source": [
    "def celsius_to_kelvin(temp_c):\n",
    "    return temp_c + 273.15"
   ]
  },
  {
   "cell_type": "code",
   "execution_count": 12,
   "id": "32202c55-3956-49bd-9b99-814c1dbfc802",
   "metadata": {},
   "outputs": [],
   "source": [
    "# fahr_to_celsius\n",
    "# celsius_to_kelvin"
   ]
  },
  {
   "cell_type": "code",
   "execution_count": 13,
   "id": "8ea93974-6bd1-4afd-a6de-bee10bcf345b",
   "metadata": {},
   "outputs": [
    {
     "name": "stdout",
     "output_type": "stream",
     "text": [
      "310.92777777777775\n"
     ]
    }
   ],
   "source": [
    "c = fahr_to_celsius(100)\n",
    "k = celsius_to_kelvin(c)\n",
    "print(k)"
   ]
  },
  {
   "cell_type": "code",
   "execution_count": 14,
   "id": "06d81d83-155a-4971-8f7b-609d1965c6c5",
   "metadata": {},
   "outputs": [],
   "source": [
    "def fahr_to_kelvin(temp_f):\n",
    "    c = fahr_to_celsius(temp_f)\n",
    "    k = celsius_to_kelvin(c)\n",
    "    return k"
   ]
  },
  {
   "cell_type": "code",
   "execution_count": 15,
   "id": "a0decb68-8eac-4d05-b807-7703af33e3d2",
   "metadata": {},
   "outputs": [
    {
     "data": {
      "text/plain": [
       "310.92777777777775"
      ]
     },
     "execution_count": 15,
     "metadata": {},
     "output_type": "execute_result"
    }
   ],
   "source": [
    "fahr_to_kelvin(100)"
   ]
  },
  {
   "cell_type": "code",
   "execution_count": null,
   "id": "cebae2b2-9e68-4a37-a90b-f1b99761ace1",
   "metadata": {},
   "outputs": [],
   "source": []
  }
 ],
 "metadata": {
  "kernelspec": {
   "display_name": "Python 3 (ipykernel)",
   "language": "python",
   "name": "python3"
  },
  "language_info": {
   "codemirror_mode": {
    "name": "ipython",
    "version": 3
   },
   "file_extension": ".py",
   "mimetype": "text/x-python",
   "name": "python",
   "nbconvert_exporter": "python",
   "pygments_lexer": "ipython3",
   "version": "3.11.3"
  }
 },
 "nbformat": 4,
 "nbformat_minor": 5
}
