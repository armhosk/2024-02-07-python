{
 "cells": [
  {
   "cell_type": "code",
   "execution_count": 1,
   "id": "603e9154-e507-44e5-b0cd-ad136d69bfbe",
   "metadata": {},
   "outputs": [],
   "source": [
    "# temperature (fahrenheit) -> celsius\n",
    "def fahr_to_celsius(temp):\n",
    "    return ((temp - 32) * (5/9))"
   ]
  },
  {
   "cell_type": "code",
   "execution_count": 2,
   "id": "cd053414-3a39-441b-bcb1-c61e066444ad",
   "metadata": {},
   "outputs": [
    {
     "data": {
      "text/plain": [
       "-1.1111111111111112"
      ]
     },
     "execution_count": 2,
     "metadata": {},
     "output_type": "execute_result"
    }
   ],
   "source": [
    "fahr_to_celsius(30)"
   ]
  },
  {
   "cell_type": "code",
   "execution_count": 3,
   "id": "cf5761f6-09d1-43e2-9dcf-966b049e124c",
   "metadata": {},
   "outputs": [
    {
     "name": "stdout",
     "output_type": "stream",
     "text": [
      "print me\n"
     ]
    }
   ],
   "source": [
    "print('print me')"
   ]
  },
  {
   "cell_type": "code",
   "execution_count": null,
   "id": "c2d805ed-5c85-4f60-bf9d-1ab518a31352",
   "metadata": {},
   "outputs": [],
   "source": [
    "def return_nothing"
   ]
  }
 ],
 "metadata": {
  "kernelspec": {
   "display_name": "Python 3 (ipykernel)",
   "language": "python",
   "name": "python3"
  },
  "language_info": {
   "codemirror_mode": {
    "name": "ipython",
    "version": 3
   },
   "file_extension": ".py",
   "mimetype": "text/x-python",
   "name": "python",
   "nbconvert_exporter": "python",
   "pygments_lexer": "ipython3",
   "version": "3.11.3"
  }
 },
 "nbformat": 4,
 "nbformat_minor": 5
}
