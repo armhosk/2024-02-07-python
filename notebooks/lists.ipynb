{
 "cells": [
  {
   "cell_type": "markdown",
   "id": "7e6ce4fe-93f9-4595-950f-f7b57447987e",
   "metadata": {},
   "source": [
    "## storing and accesing elements in lists"
   ]
  },
  {
   "cell_type": "code",
   "execution_count": 1,
   "id": "fff88dc9-e8f7-4553-9d80-88f6b09aaef6",
   "metadata": {
    "tags": []
   },
   "outputs": [
    {
     "name": "stdout",
     "output_type": "stream",
     "text": [
      "1 3\n"
     ]
    }
   ],
   "source": [
    "first_odd_number = 1\n",
    "second_odd_number = 3\n",
    "third_odd_number = 5\n",
    "print(first_odd_number, second_odd_number)"
   ]
  },
  {
   "cell_type": "code",
   "execution_count": 2,
   "id": "169a5ff8-66c1-4d8b-9b34-20bc12757355",
   "metadata": {
    "tags": []
   },
   "outputs": [
    {
     "name": "stdout",
     "output_type": "stream",
     "text": [
      "[1, 3, 5, 7]\n"
     ]
    }
   ],
   "source": [
    "odds = [1, 3, 5, 7]\n",
    "print(odds)"
   ]
  },
  {
   "cell_type": "code",
   "execution_count": null,
   "id": "28aeb521-4b37-4eea-ada1-6952206a5761",
   "metadata": {},
   "outputs": [],
   "source": [
    "print(\"first odd number:\", odds["
   ]
  }
 ],
 "metadata": {
  "kernelspec": {
   "display_name": "Python 3 (ipykernel)",
   "language": "python",
   "name": "python3"
  },
  "language_info": {
   "codemirror_mode": {
    "name": "ipython",
    "version": 3
   },
   "file_extension": ".py",
   "mimetype": "text/x-python",
   "name": "python",
   "nbconvert_exporter": "python",
   "pygments_lexer": "ipython3",
   "version": "3.11.5"
  }
 },
 "nbformat": 4,
 "nbformat_minor": 5
}
