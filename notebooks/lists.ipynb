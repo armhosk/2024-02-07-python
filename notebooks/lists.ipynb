{
 "cells": [
  {
   "cell_type": "markdown",
   "id": "7e6ce4fe-93f9-4595-950f-f7b57447987e",
   "metadata": {},
   "source": [
    "## storing and accesing elements in lists"
   ]
  },
  {
   "cell_type": "code",
   "execution_count": 1,
   "id": "fff88dc9-e8f7-4553-9d80-88f6b09aaef6",
   "metadata": {
    "tags": []
   },
   "outputs": [
    {
     "name": "stdout",
     "output_type": "stream",
     "text": [
      "1 3\n"
     ]
    }
   ],
   "source": [
    "first_odd_number = 1\n",
    "second_odd_number = 3\n",
    "third_odd_number = 5\n",
    "print(first_odd_number, second_odd_number)"
   ]
  },
  {
   "cell_type": "code",
   "execution_count": 2,
   "id": "169a5ff8-66c1-4d8b-9b34-20bc12757355",
   "metadata": {
    "tags": []
   },
   "outputs": [
    {
     "name": "stdout",
     "output_type": "stream",
     "text": [
      "[1, 3, 5, 7]\n"
     ]
    }
   ],
   "source": [
    "odds = [1, 3, 5, 7]\n",
    "print(odds)"
   ]
  },
  {
   "cell_type": "code",
   "execution_count": 3,
   "id": "28aeb521-4b37-4eea-ada1-6952206a5761",
   "metadata": {
    "tags": []
   },
   "outputs": [
    {
     "name": "stdout",
     "output_type": "stream",
     "text": [
      "first odd number: 1\n"
     ]
    }
   ],
   "source": [
    "print(\"first odd number:\", odds[0])"
   ]
  },
  {
   "cell_type": "code",
   "execution_count": 4,
   "id": "30f2c28f-d4ac-47e1-94c8-18222ff2ab4c",
   "metadata": {
    "tags": []
   },
   "outputs": [
    {
     "name": "stdout",
     "output_type": "stream",
     "text": [
      "second odd number: 3\n"
     ]
    }
   ],
   "source": [
    "print(\"second odd number:\", odds[1])"
   ]
  },
  {
   "cell_type": "code",
   "execution_count": 5,
   "id": "3eafea30-2a2e-4b8e-acad-f3603b8ccbb7",
   "metadata": {
    "tags": []
   },
   "outputs": [
    {
     "name": "stdout",
     "output_type": "stream",
     "text": [
      "last odd number: 7\n"
     ]
    }
   ],
   "source": [
    "print(\"last odd number:\", odds[3])"
   ]
  },
  {
   "cell_type": "code",
   "execution_count": 6,
   "id": "4ce8183f-5679-451d-a539-1fa8395a674a",
   "metadata": {
    "tags": []
   },
   "outputs": [
    {
     "name": "stdout",
     "output_type": "stream",
     "text": [
      "last element in the list: 7\n"
     ]
    }
   ],
   "source": [
    "print(\"last element in the list:\", odds[-1])"
   ]
  },
  {
   "cell_type": "code",
   "execution_count": 7,
   "id": "a9bd1af5-1a01-402b-be3d-29e4acd94578",
   "metadata": {
    "tags": []
   },
   "outputs": [
    {
     "name": "stdout",
     "output_type": "stream",
     "text": [
      "names are originally: ['curie', 'Darwing', 'Turing']\n",
      "names are now: ['curie', 'Darwin', 'Turing']\n"
     ]
    }
   ],
   "source": [
    "# list with strings\n",
    "\n",
    "names = [\"curie\", \"Darwing\", \"Turing\"] # typo in darwin's name\n",
    "print(\"names are originally:\", names)\n",
    "names[1] = \"Darwin\" # changed 2nd element in the list\n",
    "print(\"names are now:\", names)\n",
    "         \n",
    "    "
   ]
  },
  {
   "cell_type": "code",
   "execution_count": 8,
   "id": "08b9df42-1cda-4c56-a9ee-dfe7881f9d07",
   "metadata": {
    "tags": []
   },
   "outputs": [
    {
     "name": "stdout",
     "output_type": "stream",
     "text": [
      "original salsa recipe: ['peppers', 'onions', 'cilantro', 'tomatoes']\n",
      "my salsa recipe: ['hot peppers', 'onions', 'cilantro', 'tomatoes']\n"
     ]
    }
   ],
   "source": [
    "salsa = [\"peppers\", \"onions\", \"cilantro\", \"tomatoes\"]\n",
    "\n",
    "# make a copy\n",
    "my_salsa = list(salsa) # <-- copies the list .copy()\n",
    "my_salsa[0] = \"hot peppers\"\n",
    "\n",
    "print(\"original salsa recipe:\", salsa)\n",
    "print(\"my salsa recipe:\", my_salsa)"
   ]
  },
  {
   "cell_type": "markdown",
   "id": "1dc42c1a-7554-45ec-9c3e-5b6ff3bbff25",
   "metadata": {},
   "source": [
    "# this is markdown"
   ]
  },
  {
   "cell_type": "code",
   "execution_count": null,
   "id": "425dc6aa-ee57-4ca5-8831-f46dae24a26d",
   "metadata": {},
   "outputs": [],
   "source": []
  },
  {
   "cell_type": "code",
   "execution_count": 9,
   "id": "90dc7cc0-9348-4bfb-b52e-8ea79677b4b9",
   "metadata": {
    "tags": []
   },
   "outputs": [
    {
     "name": "stdout",
     "output_type": "stream",
     "text": [
      "original salsa recipe: ['hot peppers', 'onions', 'cilantro', 'tomatoes']\n",
      "my salsa recipe: ['hot peppers', 'onions', 'cilantro', 'tomatoes']\n"
     ]
    }
   ],
   "source": [
    "salsa = [\"peppers\", \"onions\", \"cilantro\", \"tomatoes\"]\n",
    "\n",
    "my_salsa = salsa\n",
    "my_salsa[0] = \"hot peppers\"\n",
    "\n",
    "print(\"original salsa recipe:\", salsa)\n",
    "print(\"my salsa recipe:\", my_salsa)"
   ]
  },
  {
   "cell_type": "code",
   "execution_count": null,
   "id": "2ada2172-9e34-4f4c-8ed3-530fce2e4259",
   "metadata": {},
   "outputs": [],
   "source": []
  },
  {
   "cell_type": "code",
   "execution_count": 10,
   "id": "57740cf9-47dd-474e-8702-9b5a32bdd440",
   "metadata": {
    "tags": []
   },
   "outputs": [],
   "source": [
    "grocery_shelves = [[\"pepper\", \"zuchini\", \"onion\"], [\"cabbage\", \"lettuce\", \"garlic\"], [\"apples\", \"pear\", \"banana\"]]"
   ]
  },
  {
   "cell_type": "code",
   "execution_count": 11,
   "id": "21972c24-33cc-403f-832f-f3fb987fa000",
   "metadata": {
    "tags": []
   },
   "outputs": [
    {
     "name": "stdout",
     "output_type": "stream",
     "text": [
      "first shelve contains: ['pepper', 'zuchini', 'onion']\n"
     ]
    }
   ],
   "source": [
    "print(\"first shelve contains:\", grocery_shelves[0])"
   ]
  },
  {
   "cell_type": "code",
   "execution_count": 12,
   "id": "04127f09-918b-439d-be97-29933aa33f04",
   "metadata": {
    "tags": []
   },
   "outputs": [
    {
     "name": "stdout",
     "output_type": "stream",
     "text": [
      "the most right item of the first shelve: onion\n"
     ]
    }
   ],
   "source": [
    "print(\"the most right item of the first shelve:\", grocery_shelves[0][-1])"
   ]
  },
  {
   "cell_type": "code",
   "execution_count": 13,
   "id": "ebb23bec-3810-4a35-857c-5bb5ba62e72d",
   "metadata": {
    "tags": []
   },
   "outputs": [],
   "source": [
    "# heterogeneous lists\n",
    "ages = [10, 12.5, \"unknown\"]\n"
   ]
  },
  {
   "cell_type": "code",
   "execution_count": 14,
   "id": "6848ca2b-6580-4e89-9bcc-cef12b2f7537",
   "metadata": {
    "tags": []
   },
   "outputs": [
    {
     "name": "stdout",
     "output_type": "stream",
     "text": [
      "[10, 12.5, 'unknown']\n"
     ]
    }
   ],
   "source": [
    "print(ages)"
   ]
  },
  {
   "cell_type": "code",
   "execution_count": 15,
   "id": "e503c709-441f-4463-85f9-a1405327d7bd",
   "metadata": {
    "tags": []
   },
   "outputs": [
    {
     "name": "stdout",
     "output_type": "stream",
     "text": [
      "[1, 3, 5, 7]\n",
      "odds after appending 11: [1, 3, 5, 7, 11]\n"
     ]
    }
   ],
   "source": [
    "# append items to a list\n",
    "\n",
    "odds = [1, 3, 5,7]\n",
    "print(odds)\n",
    "odds.append(11)\n",
    "print(\"odds after appending 11:\", odds)"
   ]
  },
  {
   "cell_type": "code",
   "execution_count": 16,
   "id": "de0f798e-9c81-4e49-b2e0-bcec80b8d964",
   "metadata": {
    "tags": []
   },
   "outputs": [
    {
     "name": "stdout",
     "output_type": "stream",
     "text": [
      "odds after we removed the first element: [3, 5, 7, 11]\n",
      "which element did we remove: 1\n"
     ]
    }
   ],
   "source": [
    "# remove a value from a list with .pop\n",
    "\n",
    "removed_element = odds.pop(0)\n",
    "print(\"odds after we removed the first element:\", odds)\n",
    "print(\"which element did we remove:\", removed_element)"
   ]
  },
  {
   "cell_type": "code",
   "execution_count": 17,
   "id": "0ab650ef-20ac-42d0-955c-cdf7119f4d24",
   "metadata": {
    "tags": []
   },
   "outputs": [
    {
     "name": "stdout",
     "output_type": "stream",
     "text": [
      "original odds: [3, 5, 7, 11]\n",
      "reversed odds: [11, 7, 5, 3]\n"
     ]
    }
   ],
   "source": [
    "# reverse a list \n",
    "print(\"original odds:\", odds)\n",
    "odds.reverse()\n",
    "print(\"reversed odds:\", odds)"
   ]
  },
  {
   "cell_type": "code",
   "execution_count": 18,
   "id": "5c6108e1-0247-4496-8e2b-2d6cc6dd0a85",
   "metadata": {
    "tags": []
   },
   "outputs": [
    {
     "name": "stdout",
     "output_type": "stream",
     "text": [
      "[11, 7, 5, 3]\n"
     ]
    }
   ],
   "source": [
    "\n",
    "print(odds)"
   ]
  },
  {
   "cell_type": "code",
   "execution_count": 19,
   "id": "d37c3323-c50e-4c45-82c5-53507de1059a",
   "metadata": {
    "tags": []
   },
   "outputs": [
    {
     "name": "stdout",
     "output_type": "stream",
     "text": [
      "[11, 8, 5, 3]\n"
     ]
    }
   ],
   "source": [
    "odds[1] = 8\n",
    "print(odds)"
   ]
  },
  {
   "cell_type": "markdown",
   "id": "06f4ca24-63fb-4121-bcbc-9c7364c16c48",
   "metadata": {},
   "source": [
    "# exersize"
   ]
  },
  {
   "cell_type": "code",
   "execution_count": 21,
   "id": "69029eaa-72e0-452d-bbf0-e9cf50518ab3",
   "metadata": {
    "tags": []
   },
   "outputs": [
    {
     "name": "stdout",
     "output_type": "stream",
     "text": [
      "[1, 3, 5, 7, 2, 4, 6, 8]\n",
      "[2, 4, 6, 8, 1, 3, 5, 7]\n"
     ]
    }
   ],
   "source": [
    "list1 = [1, 3, 5, 7]\n",
    "list2 = [2, 4, 6, 8]\n",
    "list3 = list1 + list2\n",
    "list4 = list2 + list1\n",
    "print(list3)\n",
    "print(list4)"
   ]
  },
  {
   "cell_type": "code",
   "execution_count": 24,
   "id": "fb88e800-91ba-4ba1-97cf-c03211affd83",
   "metadata": {
    "tags": []
   },
   "outputs": [
    {
     "name": "stdout",
     "output_type": "stream",
     "text": [
      "[2, 4, 6, 8, 10, 2, 4, 6, 8, 10, 2, 4, 6, 8, 10, 2, 4, 6, 8, 10]\n"
     ]
    }
   ],
   "source": [
    "counts = [2, 4, 6, 8 ,10]\n",
    "repeats = counts * 4\n",
    "print(repeats)"
   ]
  },
  {
   "cell_type": "markdown",
   "id": "43d86aa5-28f2-45a2-82aa-15b222fb5952",
   "metadata": {},
   "source": [
    "# see you back at 12:30\n"
   ]
  }
 ],
 "metadata": {
  "kernelspec": {
   "display_name": "Python 3 (ipykernel)",
   "language": "python",
   "name": "python3"
  },
  "language_info": {
   "codemirror_mode": {
    "name": "ipython",
    "version": 3
   },
   "file_extension": ".py",
   "mimetype": "text/x-python",
   "name": "python",
   "nbconvert_exporter": "python",
   "pygments_lexer": "ipython3",
   "version": "3.11.5"
  }
 },
 "nbformat": 4,
 "nbformat_minor": 5
}
