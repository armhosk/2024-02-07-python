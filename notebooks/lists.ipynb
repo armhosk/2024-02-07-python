{
 "cells": [
  {
   "cell_type": "markdown",
   "id": "7e6ce4fe-93f9-4595-950f-f7b57447987e",
   "metadata": {},
   "source": [
    "## storing and accesing elements in lists"
   ]
  },
  {
   "cell_type": "code",
   "execution_count": 1,
   "id": "fff88dc9-e8f7-4553-9d80-88f6b09aaef6",
   "metadata": {
    "tags": []
   },
   "outputs": [
    {
     "name": "stdout",
     "output_type": "stream",
     "text": [
      "1 3\n"
     ]
    }
   ],
   "source": [
    "first_odd_number = 1\n",
    "second_odd_number = 3\n",
    "third_odd_number = 5\n",
    "print(first_odd_number, second_odd_number)"
   ]
  },
  {
   "cell_type": "code",
   "execution_count": 2,
   "id": "169a5ff8-66c1-4d8b-9b34-20bc12757355",
   "metadata": {
    "tags": []
   },
   "outputs": [
    {
     "name": "stdout",
     "output_type": "stream",
     "text": [
      "[1, 3, 5, 7]\n"
     ]
    }
   ],
   "source": [
    "odds = [1, 3, 5, 7]\n",
    "print(odds)"
   ]
  },
  {
   "cell_type": "code",
   "execution_count": 3,
   "id": "28aeb521-4b37-4eea-ada1-6952206a5761",
   "metadata": {
    "tags": []
   },
   "outputs": [
    {
     "name": "stdout",
     "output_type": "stream",
     "text": [
      "first odd number: 1\n"
     ]
    }
   ],
   "source": [
    "print(\"first odd number:\", odds[0])"
   ]
  },
  {
   "cell_type": "code",
   "execution_count": 4,
   "id": "30f2c28f-d4ac-47e1-94c8-18222ff2ab4c",
   "metadata": {
    "tags": []
   },
   "outputs": [
    {
     "name": "stdout",
     "output_type": "stream",
     "text": [
      "second odd number: 3\n"
     ]
    }
   ],
   "source": [
    "print(\"second odd number:\", odds[1])"
   ]
  },
  {
   "cell_type": "code",
   "execution_count": 5,
   "id": "3eafea30-2a2e-4b8e-acad-f3603b8ccbb7",
   "metadata": {
    "tags": []
   },
   "outputs": [
    {
     "name": "stdout",
     "output_type": "stream",
     "text": [
      "last odd number: 7\n"
     ]
    }
   ],
   "source": [
    "print(\"last odd number:\", odds[3])"
   ]
  },
  {
   "cell_type": "code",
   "execution_count": 6,
   "id": "4ce8183f-5679-451d-a539-1fa8395a674a",
   "metadata": {
    "tags": []
   },
   "outputs": [
    {
     "name": "stdout",
     "output_type": "stream",
     "text": [
      "last element in the list: 7\n"
     ]
    }
   ],
   "source": [
    "print(\"last element in the list:\", odds[-1])"
   ]
  },
  {
   "cell_type": "code",
   "execution_count": null,
   "id": "a9bd1af5-1a01-402b-be3d-29e4acd94578",
   "metadata": {},
   "outputs": [],
   "source": [
    "# list with strings\n",
    "names = [\"curie\", \"Darwing\", \"Turing\"] # typo in darwin's name\n",
    "print(\"names are originally:\", n\n",
    "         \n",
    "    "
   ]
  }
 ],
 "metadata": {
  "kernelspec": {
   "display_name": "Python 3 (ipykernel)",
   "language": "python",
   "name": "python3"
  },
  "language_info": {
   "codemirror_mode": {
    "name": "ipython",
    "version": 3
   },
   "file_extension": ".py",
   "mimetype": "text/x-python",
   "name": "python",
   "nbconvert_exporter": "python",
   "pygments_lexer": "ipython3",
   "version": "3.11.5"
  }
 },
 "nbformat": 4,
 "nbformat_minor": 5
}
