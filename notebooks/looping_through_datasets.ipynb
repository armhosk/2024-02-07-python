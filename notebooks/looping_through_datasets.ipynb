{
 "cells": [
  {
   "cell_type": "code",
   "execution_count": 1,
   "id": "62fb155d-8dca-4297-b02d-2fda34c8e5cd",
   "metadata": {},
   "outputs": [
    {
     "name": "stdout",
     "output_type": "stream",
     "text": [
      "1\n",
      "3\n",
      "5\n",
      "7\n"
     ]
    }
   ],
   "source": [
    "odds = [1,3,5,7]\n",
    "for number in odds:\n",
    "    print(number)"
   ]
  },
  {
   "cell_type": "code",
   "execution_count": 2,
   "id": "dd66f6d6-a1c5-498a-be95-b4457383f8a7",
   "metadata": {},
   "outputs": [],
   "source": [
    "import pandas as pd"
   ]
  },
  {
   "cell_type": "code",
   "execution_count": 3,
   "id": "87ee24c1-9c96-4223-9373-a1bb9628da06",
   "metadata": {},
   "outputs": [],
   "source": [
    "datasets = ['../data/gapminder_gdp_africa.csv', '../data/gapminder_gdp_americas.csv']"
   ]
  },
  {
   "cell_type": "code",
   "execution_count": null,
   "id": "4e5611a0-0a16-4f50-9a78-b83fa954a043",
   "metadata": {},
   "outputs": [],
   "source": [
    "for filename in datasets:\n",
    "    data = pd.read_csv()"
   ]
  }
 ],
 "metadata": {
  "kernelspec": {
   "display_name": "Python 3 (ipykernel)",
   "language": "python",
   "name": "python3"
  },
  "language_info": {
   "codemirror_mode": {
    "name": "ipython",
    "version": 3
   },
   "file_extension": ".py",
   "mimetype": "text/x-python",
   "name": "python",
   "nbconvert_exporter": "python",
   "pygments_lexer": "ipython3",
   "version": "3.11.3"
  }
 },
 "nbformat": 4,
 "nbformat_minor": 5
}
