{
 "cells": [
  {
   "cell_type": "code",
   "execution_count": 1,
   "id": "62fb155d-8dca-4297-b02d-2fda34c8e5cd",
   "metadata": {},
   "outputs": [
    {
     "name": "stdout",
     "output_type": "stream",
     "text": [
      "1\n",
      "3\n",
      "5\n",
      "7\n"
     ]
    }
   ],
   "source": [
    "odds = [1,3,5,7]\n",
    "for number in odds:\n",
    "    print(number)"
   ]
  },
  {
   "cell_type": "code",
   "execution_count": 2,
   "id": "dd66f6d6-a1c5-498a-be95-b4457383f8a7",
   "metadata": {},
   "outputs": [],
   "source": [
    "import pandas as pd"
   ]
  },
  {
   "cell_type": "code",
   "execution_count": 5,
   "id": "87ee24c1-9c96-4223-9373-a1bb9628da06",
   "metadata": {},
   "outputs": [],
   "source": [
    "filenames = ['../data/gapminder_gdp_africa.csv', '../data/gapminder_gdp_americas.csv']"
   ]
  },
  {
   "cell_type": "code",
   "execution_count": 4,
   "id": "4e5611a0-0a16-4f50-9a78-b83fa954a043",
   "metadata": {},
   "outputs": [
    {
     "name": "stdout",
     "output_type": "stream",
     "text": [
      "../data/gapminder_gdp_africa.csv country              Algeria\n",
      "gdpPercap_1952    298.846212\n",
      "gdpPercap_1957    335.997115\n",
      "gdpPercap_1962    355.203227\n",
      "gdpPercap_1967    412.977514\n",
      "gdpPercap_1972    464.099504\n",
      "gdpPercap_1977    502.319733\n",
      "gdpPercap_1982    462.211415\n",
      "gdpPercap_1987    389.876185\n",
      "gdpPercap_1992    410.896824\n",
      "gdpPercap_1997    312.188423\n",
      "gdpPercap_2002    241.165876\n",
      "gdpPercap_2007    277.551859\n",
      "dtype: object\n",
      "../data/gapminder_gdp_americas.csv continent            Americas\n",
      "country             Argentina\n",
      "gdpPercap_1952    1397.717137\n",
      "gdpPercap_1957    1544.402995\n",
      "gdpPercap_1962    1662.137359\n",
      "gdpPercap_1967    1452.057666\n",
      "gdpPercap_1972    1654.456946\n",
      "gdpPercap_1977    1874.298931\n",
      "gdpPercap_1982    2011.159549\n",
      "gdpPercap_1987    1823.015995\n",
      "gdpPercap_1992    1456.309517\n",
      "gdpPercap_1997    1341.726931\n",
      "gdpPercap_2002    1270.364932\n",
      "gdpPercap_2007    1201.637154\n",
      "dtype: object\n"
     ]
    }
   ],
   "source": [
    "for filename in filenames:\n",
    "    data = pd.read_csv(filename)\n",
    "    print(filename, data.min())"
   ]
  },
  {
   "cell_type": "code",
   "execution_count": 7,
   "id": "4afa5828-e5bc-422f-8af3-cc680039bbeb",
   "metadata": {},
   "outputs": [],
   "source": [
    "import glob"
   ]
  },
  {
   "cell_type": "code",
   "execution_count": 11,
   "id": "e1b67208-cd63-44dd-9a85-bc6859e5112a",
   "metadata": {},
   "outputs": [],
   "source": [
    "filenames = glob.glob('../data/*.csv')"
   ]
  },
  {
   "cell_type": "code",
   "execution_count": 20,
   "id": "0d3e874e-15d5-4716-869e-9f0a5664cbe1",
   "metadata": {},
   "outputs": [
    {
     "name": "stdout",
     "output_type": "stream",
     "text": [
      "../data\\gapminder_all.csv continent             Africa\n",
      "gdpPercap_1952    298.846212\n",
      "gdpPercap_1957    335.997115\n",
      "gdpPercap_1962    355.203227\n",
      "gdpPercap_1967         349.0\n",
      "gdpPercap_1972         357.0\n",
      "gdpPercap_1977         371.0\n",
      "gdpPercap_1982         424.0\n",
      "gdpPercap_1987         385.0\n",
      "gdpPercap_1992         347.0\n",
      "gdpPercap_1997    312.188423\n",
      "gdpPercap_2002    241.165876\n",
      "gdpPercap_2007    277.551859\n",
      "lifeExp_1952          28.801\n",
      "lifeExp_1957          30.332\n",
      "lifeExp_1962          31.997\n",
      "lifeExp_1967           34.02\n",
      "lifeExp_1972            35.4\n",
      "lifeExp_1977           31.22\n",
      "lifeExp_1982          38.445\n",
      "lifeExp_1987          39.906\n",
      "lifeExp_1992          23.599\n",
      "lifeExp_1997          36.087\n",
      "lifeExp_2002          39.193\n",
      "lifeExp_2007          39.613\n",
      "pop_1952             60011.0\n",
      "pop_1957             61325.0\n",
      "pop_1962             65345.0\n",
      "pop_1967             70787.0\n",
      "pop_1972             76595.0\n",
      "pop_1977             86796.0\n",
      "pop_1982             98593.0\n",
      "pop_1987            110812.0\n",
      "pop_1992            125911.0\n",
      "pop_1997            145608.0\n",
      "pop_2002              170372\n",
      "pop_2007              199579\n",
      "dtype: object\n",
      "../data\\gapminder_gdp_africa.csv gdpPercap_1952    298.846212\n",
      "gdpPercap_1957    335.997115\n",
      "gdpPercap_1962    355.203227\n",
      "gdpPercap_1967    412.977514\n",
      "gdpPercap_1972    464.099504\n",
      "gdpPercap_1977    502.319733\n",
      "gdpPercap_1982    462.211415\n",
      "gdpPercap_1987    389.876185\n",
      "gdpPercap_1992    410.896824\n",
      "gdpPercap_1997    312.188423\n",
      "gdpPercap_2002    241.165876\n",
      "gdpPercap_2007    277.551859\n",
      "dtype: float64\n",
      "../data\\gapminder_gdp_americas.csv continent            Americas\n",
      "gdpPercap_1952    1397.717137\n",
      "gdpPercap_1957    1544.402995\n",
      "gdpPercap_1962    1662.137359\n",
      "gdpPercap_1967    1452.057666\n",
      "gdpPercap_1972    1654.456946\n",
      "gdpPercap_1977    1874.298931\n",
      "gdpPercap_1982    2011.159549\n",
      "gdpPercap_1987    1823.015995\n",
      "gdpPercap_1992    1456.309517\n",
      "gdpPercap_1997    1341.726931\n",
      "gdpPercap_2002    1270.364932\n",
      "gdpPercap_2007    1201.637154\n",
      "dtype: object\n",
      "../data\\gapminder_gdp_asia.csv gdpPercap_1952    331.0\n",
      "gdpPercap_1957    350.0\n",
      "gdpPercap_1962    388.0\n",
      "gdpPercap_1967    349.0\n",
      "gdpPercap_1972    357.0\n",
      "gdpPercap_1977    371.0\n",
      "gdpPercap_1982    424.0\n",
      "gdpPercap_1987    385.0\n",
      "gdpPercap_1992    347.0\n",
      "gdpPercap_1997    415.0\n",
      "gdpPercap_2002    611.0\n",
      "gdpPercap_2007    944.0\n",
      "dtype: float64\n",
      "../data\\gapminder_gdp_europe.csv gdpPercap_1952     973.533195\n",
      "gdpPercap_1957    1353.989176\n",
      "gdpPercap_1962    1709.683679\n",
      "gdpPercap_1967    2172.352423\n",
      "gdpPercap_1972    2860.169750\n",
      "gdpPercap_1977    3528.481305\n",
      "gdpPercap_1982    3630.880722\n",
      "gdpPercap_1987    3738.932735\n",
      "gdpPercap_1992    2497.437901\n",
      "gdpPercap_1997    3193.054604\n",
      "gdpPercap_2002    4604.211737\n",
      "gdpPercap_2007    5937.029526\n",
      "dtype: float64\n",
      "../data\\gapminder_gdp_oceania.csv gdpPercap_1952    10039.59564\n",
      "gdpPercap_1957    10949.64959\n",
      "gdpPercap_1962    12217.22686\n",
      "gdpPercap_1967    14463.91893\n",
      "gdpPercap_1972    16046.03728\n",
      "gdpPercap_1977    16233.71770\n",
      "gdpPercap_1982    17632.41040\n",
      "gdpPercap_1987    19007.19129\n",
      "gdpPercap_1992    18363.32494\n",
      "gdpPercap_1997    21050.41377\n",
      "gdpPercap_2002    23189.80135\n",
      "gdpPercap_2007    25185.00911\n",
      "dtype: float64\n"
     ]
    }
   ],
   "source": [
    "for filename in filenames:\n",
    "    data = pd.read_csv(filename, index_col='country')\n",
    "    print(filename, data.min())"
   ]
  },
  {
   "cell_type": "code",
   "execution_count": null,
   "id": "737ddbbe-bbc4-490d-b133-abbca09ba6d3",
   "metadata": {},
   "outputs": [],
   "source": []
  }
 ],
 "metadata": {
  "kernelspec": {
   "display_name": "Python 3 (ipykernel)",
   "language": "python",
   "name": "python3"
  },
  "language_info": {
   "codemirror_mode": {
    "name": "ipython",
    "version": 3
   },
   "file_extension": ".py",
   "mimetype": "text/x-python",
   "name": "python",
   "nbconvert_exporter": "python",
   "pygments_lexer": "ipython3",
   "version": "3.11.3"
  }
 },
 "nbformat": 4,
 "nbformat_minor": 5
}
