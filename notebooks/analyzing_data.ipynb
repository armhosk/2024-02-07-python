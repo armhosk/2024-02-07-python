{
 "cells": [
  {
   "cell_type": "code",
   "execution_count": 3,
   "id": "f7cf3f31-c95d-41e0-b0a1-85a315ac5583",
   "metadata": {},
   "outputs": [],
   "source": [
    "letters = ['a', 'b', 'c', 'd']"
   ]
  },
  {
   "cell_type": "code",
   "execution_count": 4,
   "id": "2ee38d0f-cd6d-498f-9e58-880964df0694",
   "metadata": {},
   "outputs": [
    {
     "data": {
      "text/plain": [
       "['a', 'b', 'c', 'd']"
      ]
     },
     "execution_count": 4,
     "metadata": {},
     "output_type": "execute_result"
    }
   ],
   "source": [
    "letters"
   ]
  },
  {
   "cell_type": "code",
   "execution_count": 5,
   "id": "59cf71bf-2c4a-4de8-a466-24d8cec0b033",
   "metadata": {},
   "outputs": [
    {
     "name": "stdout",
     "output_type": "stream",
     "text": [
      "['a', 'b', 'c', 'd']\n"
     ]
    }
   ],
   "source": [
    "print(letters)"
   ]
  },
  {
   "cell_type": "code",
   "execution_count": 6,
   "id": "283745d2-16cf-446f-ba15-c210a5d6d75d",
   "metadata": {},
   "outputs": [
    {
     "data": {
      "text/plain": [
       "'a'"
      ]
     },
     "execution_count": 6,
     "metadata": {},
     "output_type": "execute_result"
    }
   ],
   "source": [
    "letters[0]"
   ]
  },
  {
   "cell_type": "code",
   "execution_count": 7,
   "id": "13f6ed4e-6add-4346-b5c0-8713826b76c8",
   "metadata": {},
   "outputs": [
    {
     "data": {
      "text/plain": [
       "['a']"
      ]
     },
     "execution_count": 7,
     "metadata": {},
     "output_type": "execute_result"
    }
   ],
   "source": [
    "letters[0:1]"
   ]
  },
  {
   "cell_type": "code",
   "execution_count": 8,
   "id": "fdcc902a-4736-4545-b538-d0b17885b0ca",
   "metadata": {},
   "outputs": [
    {
     "data": {
      "text/plain": [
       "['a', 'b']"
      ]
     },
     "execution_count": 8,
     "metadata": {},
     "output_type": "execute_result"
    }
   ],
   "source": [
    "letters[0:2]"
   ]
  },
  {
   "cell_type": "code",
   "execution_count": 9,
   "id": "26a2855e-c5d4-4c95-9a2a-0734c1d51a5d",
   "metadata": {},
   "outputs": [
    {
     "data": {
      "text/plain": [
       "['c', 'd']"
      ]
     },
     "execution_count": 9,
     "metadata": {},
     "output_type": "execute_result"
    }
   ],
   "source": [
    "letters[2:4]"
   ]
  },
  {
   "cell_type": "code",
   "execution_count": 10,
   "id": "7d27fc8a-a866-4c2a-b801-a04ead134292",
   "metadata": {},
   "outputs": [
    {
     "data": {
      "text/plain": [
       "['c']"
      ]
     },
     "execution_count": 10,
     "metadata": {},
     "output_type": "execute_result"
    }
   ],
   "source": [
    "letters[-2:-1]"
   ]
  },
  {
   "cell_type": "code",
   "execution_count": 11,
   "id": "96d1eec5-1a61-4a8c-8e9f-f1ce62a5c780",
   "metadata": {},
   "outputs": [
    {
     "data": {
      "text/plain": [
       "[]"
      ]
     },
     "execution_count": 11,
     "metadata": {},
     "output_type": "execute_result"
    }
   ],
   "source": [
    "letters[-2:0]"
   ]
  },
  {
   "cell_type": "code",
   "execution_count": 12,
   "id": "9b440274-ae80-416e-a514-efbf34d2d037",
   "metadata": {},
   "outputs": [
    {
     "data": {
      "text/plain": [
       "['c', 'd']"
      ]
     },
     "execution_count": 12,
     "metadata": {},
     "output_type": "execute_result"
    }
   ],
   "source": [
    "letters[-2:]"
   ]
  },
  {
   "cell_type": "code",
   "execution_count": 13,
   "id": "96ce8c64-b29d-4696-951f-1554e94445f9",
   "metadata": {},
   "outputs": [
    {
     "data": {
      "text/plain": [
       "4"
      ]
     },
     "execution_count": 13,
     "metadata": {},
     "output_type": "execute_result"
    }
   ],
   "source": [
    "len(letters)"
   ]
  },
  {
   "cell_type": "code",
   "execution_count": 14,
   "id": "ca4cea69-a0e0-4636-aafc-a44ed5b4b632",
   "metadata": {},
   "outputs": [
    {
     "data": {
      "text/plain": [
       "['c', 'd']"
      ]
     },
     "execution_count": 14,
     "metadata": {},
     "output_type": "execute_result"
    }
   ],
   "source": [
    "letters[-2:len(letters)]"
   ]
  },
  {
   "cell_type": "code",
   "execution_count": 15,
   "id": "e3415c02-d136-430f-baf8-9257a0a6deed",
   "metadata": {},
   "outputs": [
    {
     "name": "stdout",
     "output_type": "stream",
     "text": [
      "Help on built-in function len in module builtins:\n",
      "\n",
      "len(obj, /)\n",
      "    Return the number of items in a container.\n",
      "\n"
     ]
    }
   ],
   "source": [
    "help(len)"
   ]
  },
  {
   "cell_type": "code",
   "execution_count": 16,
   "id": "f1f5adc8-2254-4ba1-8ff1-21881a30649b",
   "metadata": {},
   "outputs": [
    {
     "data": {
      "text/plain": [
       "3"
      ]
     },
     "execution_count": 16,
     "metadata": {},
     "output_type": "execute_result"
    }
   ],
   "source": [
    "len('max')"
   ]
  },
  {
   "cell_type": "code",
   "execution_count": null,
   "id": "6d77adc4-e5ff-4a7b-b1df-0b639dccea6d",
   "metadata": {},
   "outputs": [],
   "source": []
  }
 ],
 "metadata": {
  "kernelspec": {
   "display_name": "Python 3 (ipykernel)",
   "language": "python",
   "name": "python3"
  },
  "language_info": {
   "codemirror_mode": {
    "name": "ipython",
    "version": 3
   },
   "file_extension": ".py",
   "mimetype": "text/x-python",
   "name": "python",
   "nbconvert_exporter": "python",
   "pygments_lexer": "ipython3",
   "version": "3.11.3"
  }
 },
 "nbformat": 4,
 "nbformat_minor": 5
}
