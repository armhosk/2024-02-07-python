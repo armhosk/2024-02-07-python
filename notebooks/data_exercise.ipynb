{
 "cells": [
  {
   "cell_type": "markdown",
   "id": "c67f36cc-accd-4876-8138-54f1ec04d7fb",
   "metadata": {},
   "source": [
    "- load the gapminder data for Europe\n",
    "- what is the **mean** GDP for all countries in 1982?\n",
    "- what is the maximum GDP for years after 1985; which country?"
   ]
  },
  {
   "cell_type": "code",
   "execution_count": 1,
   "id": "ca31a35a-2641-4940-905b-f7d50d6328d9",
   "metadata": {},
   "outputs": [],
   "source": [
    "import pandas as pd"
   ]
  },
  {
   "cell_type": "code",
   "execution_count": null,
   "id": "6575ce83-0b22-49c2-a833-7ded0751b0e7",
   "metadata": {},
   "outputs": [],
   "source": [
    "data = pd.read_csv('../data/gapminder_gdp_europe.csv', index_col=)"
   ]
  }
 ],
 "metadata": {
  "kernelspec": {
   "display_name": "Python 3 (ipykernel)",
   "language": "python",
   "name": "python3"
  },
  "language_info": {
   "codemirror_mode": {
    "name": "ipython",
    "version": 3
   },
   "file_extension": ".py",
   "mimetype": "text/x-python",
   "name": "python",
   "nbconvert_exporter": "python",
   "pygments_lexer": "ipython3",
   "version": "3.11.3"
  }
 },
 "nbformat": 4,
 "nbformat_minor": 5
}
