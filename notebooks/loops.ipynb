{
 "cells": [
  {
   "cell_type": "code",
   "execution_count": 1,
   "id": "e58ae51e-6238-454b-ad62-5b67661c6bd9",
   "metadata": {},
   "outputs": [],
   "source": [
    "odds = [1, 3, 5, 7]"
   ]
  },
  {
   "cell_type": "code",
   "execution_count": 2,
   "id": "edbad8e6-059a-469e-b524-930386f906d9",
   "metadata": {},
   "outputs": [
    {
     "name": "stdout",
     "output_type": "stream",
     "text": [
      "[1, 3, 5, 7]\n"
     ]
    }
   ],
   "source": [
    "print(odds)"
   ]
  },
  {
   "cell_type": "code",
   "execution_count": 3,
   "id": "936f6af2-0d43-451c-8fe8-529b65832eb3",
   "metadata": {},
   "outputs": [
    {
     "name": "stdout",
     "output_type": "stream",
     "text": [
      "1\n"
     ]
    }
   ],
   "source": [
    "print(odds[0])"
   ]
  },
  {
   "cell_type": "code",
   "execution_count": 4,
   "id": "a373ce15-22ef-4bc9-93d7-85ec370d8157",
   "metadata": {},
   "outputs": [
    {
     "name": "stdout",
     "output_type": "stream",
     "text": [
      "3\n"
     ]
    }
   ],
   "source": [
    "print(odds[1])"
   ]
  },
  {
   "cell_type": "code",
   "execution_count": 5,
   "id": "e29c52f3-5537-4136-ac17-ad71aaa80e64",
   "metadata": {},
   "outputs": [
    {
     "name": "stdout",
     "output_type": "stream",
     "text": [
      "5\n"
     ]
    }
   ],
   "source": [
    "print(odds[2])"
   ]
  },
  {
   "cell_type": "code",
   "execution_count": 6,
   "id": "1d0812c1-ebab-47c9-8420-34f7eb4d439c",
   "metadata": {},
   "outputs": [
    {
     "data": {
      "text/plain": [
       "[1, 3, 5, 7]"
      ]
     },
     "execution_count": 6,
     "metadata": {},
     "output_type": "execute_result"
    }
   ],
   "source": [
    "odds"
   ]
  },
  {
   "cell_type": "code",
   "execution_count": 7,
   "id": "08ce0609-0388-4e74-932f-cbe6db5bcd37",
   "metadata": {},
   "outputs": [
    {
     "name": "stdout",
     "output_type": "stream",
     "text": [
      "1\n",
      "3\n",
      "5\n",
      "7\n"
     ]
    }
   ],
   "source": [
    "for number in odds:\n",
    "    print(number)"
   ]
  },
  {
   "cell_type": "code",
   "execution_count": 8,
   "id": "a4df6533-0a47-4742-864a-8baf6c836a04",
   "metadata": {},
   "outputs": [
    {
     "name": "stdout",
     "output_type": "stream",
     "text": [
      "1\n",
      "3\n",
      "5\n",
      "7\n"
     ]
    }
   ],
   "source": [
    "for person in odds:\n",
    "    print(person)"
   ]
  },
  {
   "cell_type": "code",
   "execution_count": 9,
   "id": "131d7469-c96a-42d1-a96f-2d4e4eeedf79",
   "metadata": {},
   "outputs": [
    {
     "data": {
      "text/plain": [
       "[0, 1, 2, 3]"
      ]
     },
     "execution_count": 9,
     "metadata": {},
     "output_type": "execute_result"
    }
   ],
   "source": [
    "list(range(4))"
   ]
  },
  {
   "cell_type": "code",
   "execution_count": 10,
   "id": "0cc24dd1-7cbf-4870-a4c9-b7bc39b1b808",
   "metadata": {},
   "outputs": [
    {
     "data": {
      "text/plain": [
       "[0, 1, 2, 3]"
      ]
     },
     "execution_count": 10,
     "metadata": {},
     "output_type": "execute_result"
    }
   ],
   "source": [
    "list(range(len(odds)))"
   ]
  },
  {
   "cell_type": "code",
   "execution_count": 12,
   "id": "e0d9b75f-d63d-459a-b2d5-766c89686a69",
   "metadata": {},
   "outputs": [
    {
     "name": "stdout",
     "output_type": "stream",
     "text": [
      "1\n",
      "3\n",
      "5\n",
      "7\n"
     ]
    }
   ],
   "source": [
    "for i in range(len(odds)):\n",
    "    print(odds[i])"
   ]
  },
  {
   "cell_type": "code",
   "execution_count": 13,
   "id": "b9002684-6c4a-4593-b126-d4a96645a91d",
   "metadata": {},
   "outputs": [],
   "source": [
    "# multiply each element in list by 2\n",
    "multiples = []"
   ]
  },
  {
   "cell_type": "code",
   "execution_count": 14,
   "id": "eb199110-5b66-4a0f-9961-963354d34492",
   "metadata": {},
   "outputs": [
    {
     "name": "stdout",
     "output_type": "stream",
     "text": [
      "[]\n"
     ]
    }
   ],
   "source": [
    "print(multiples)"
   ]
  },
  {
   "cell_type": "code",
   "execution_count": 15,
   "id": "b9413b7e-da9e-4834-a0d3-9548d7766b12",
   "metadata": {},
   "outputs": [
    {
     "name": "stdout",
     "output_type": "stream",
     "text": [
      "[1, 3, 5, 7]\n"
     ]
    }
   ],
   "source": [
    "print(odds)"
   ]
  },
  {
   "cell_type": "code",
   "execution_count": 19,
   "id": "7bd07b13-4be7-46fe-8280-86c339ee1e0d",
   "metadata": {},
   "outputs": [
    {
     "name": "stdout",
     "output_type": "stream",
     "text": [
      "1\n",
      "3\n",
      "5\n",
      "7\n"
     ]
    }
   ],
   "source": [
    "for num in odds:\n",
    "    print(num)\n",
    "    multiples.append(num * 2)"
   ]
  },
  {
   "cell_type": "code",
   "execution_count": 18,
   "id": "a23eb944-abe9-4280-900f-02bfd8dce2ac",
   "metadata": {},
   "outputs": [
    {
     "name": "stdout",
     "output_type": "stream",
     "text": [
      "[2, 6, 10, 14]\n"
     ]
    }
   ],
   "source": [
    "print(multiples)"
   ]
  },
  {
   "cell_type": "code",
   "execution_count": 21,
   "id": "e1e99569-e06d-42e1-8fb0-f598ecdc613d",
   "metadata": {},
   "outputs": [],
   "source": [
    "# list comprehension\n",
    "multiples = [num * 2 for num in odds]"
   ]
  },
  {
   "cell_type": "code",
   "execution_count": 22,
   "id": "16323399-4087-447c-8882-28e4e5368e46",
   "metadata": {},
   "outputs": [
    {
     "data": {
      "text/plain": [
       "[2, 6, 10, 14]"
      ]
     },
     "execution_count": 22,
     "metadata": {},
     "output_type": "execute_result"
    }
   ],
   "source": [
    "multiples"
   ]
  },
  {
   "cell_type": "code",
   "execution_count": null,
   "id": "107a5e35-54c6-4bb6-96db-310144eb73b2",
   "metadata": {},
   "outputs": [],
   "source": []
  },
  {
   "cell_type": "code",
   "execution_count": null,
   "id": "3f955fcf-12b4-43c7-9490-216199d47966",
   "metadata": {},
   "outputs": [],
   "source": []
  }
 ],
 "metadata": {
  "kernelspec": {
   "display_name": "Python 3 (ipykernel)",
   "language": "python",
   "name": "python3"
  },
  "language_info": {
   "codemirror_mode": {
    "name": "ipython",
    "version": 3
   },
   "file_extension": ".py",
   "mimetype": "text/x-python",
   "name": "python",
   "nbconvert_exporter": "python",
   "pygments_lexer": "ipython3",
   "version": "3.11.3"
  }
 },
 "nbformat": 4,
 "nbformat_minor": 5
}
