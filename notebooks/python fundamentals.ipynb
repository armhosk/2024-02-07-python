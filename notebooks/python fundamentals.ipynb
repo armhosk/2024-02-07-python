{
 "cells": [
  {
   "cell_type": "code",
   "execution_count": 1,
   "id": "175b23e1-f53d-4724-b4f7-0ec2ccf0188e",
   "metadata": {
    "tags": []
   },
   "outputs": [],
   "source": [
    "## python fundamentals"
   ]
  },
  {
   "cell_type": "code",
   "execution_count": 2,
   "id": "29428aa7-ca2d-4454-b73c-944e2b5e8a84",
   "metadata": {
    "tags": []
   },
   "outputs": [],
   "source": [
    "# variables\n",
    "gdpPercapUSD = 2449\n"
   ]
  },
  {
   "cell_type": "code",
   "execution_count": 3,
   "id": "cc747f20-5f3c-4841-910f-00b2e0cb0e27",
   "metadata": {
    "tags": []
   },
   "outputs": [
    {
     "name": "stdout",
     "output_type": "stream",
     "text": [
      "2449\n"
     ]
    }
   ],
   "source": [
    "# print function\n",
    "print(gdpPercapUSD)"
   ]
  },
  {
   "cell_type": "code",
   "execution_count": 4,
   "id": "0b549da1-982e-42b7-95f3-0f1140021a47",
   "metadata": {
    "tags": []
   },
   "outputs": [
    {
     "ename": "NameError",
     "evalue": "name 'GdpPercapUSD' is not defined",
     "output_type": "error",
     "traceback": [
      "\u001b[1;31m---------------------------------------------------------------------------\u001b[0m",
      "\u001b[1;31mNameError\u001b[0m                                 Traceback (most recent call last)",
      "Cell \u001b[1;32mIn[4], line 2\u001b[0m\n\u001b[0;32m      1\u001b[0m \u001b[38;5;66;03m# variables are case sensitive\u001b[39;00m\n\u001b[1;32m----> 2\u001b[0m \u001b[38;5;28mprint\u001b[39m(GdpPercapUSD)\n",
      "\u001b[1;31mNameError\u001b[0m: name 'GdpPercapUSD' is not defined"
     ]
    }
   ],
   "source": [
    "# variables are case sensitive\n",
    "print(GdpPercapUSD)"
   ]
  },
  {
   "cell_type": "code",
   "execution_count": 5,
   "id": "5ababa2c-d813-4e9b-8a28-e3208723b966",
   "metadata": {
    "tags": []
   },
   "outputs": [],
   "source": [
    "gpdpercap_1990 = 5471"
   ]
  },
  {
   "cell_type": "code",
   "execution_count": 6,
   "id": "5b7b38c1-cf97-4f5a-bf9a-0400295c058d",
   "metadata": {
    "tags": []
   },
   "outputs": [
    {
     "ename": "SyntaxError",
     "evalue": "invalid decimal literal (812309066.py, line 1)",
     "output_type": "error",
     "traceback": [
      "\u001b[1;36m  Cell \u001b[1;32mIn[6], line 1\u001b[1;36m\u001b[0m\n\u001b[1;33m    1990_gdppercap = 5471\u001b[0m\n\u001b[1;37m        ^\u001b[0m\n\u001b[1;31mSyntaxError\u001b[0m\u001b[1;31m:\u001b[0m invalid decimal literal\n"
     ]
    }
   ],
   "source": [
    "1990_gdppercap = 5471"
   ]
  },
  {
   "cell_type": "code",
   "execution_count": 7,
   "id": "570fdcab-59ca-4be8-b061-6202d299f22b",
   "metadata": {
    "tags": []
   },
   "outputs": [
    {
     "name": "stdout",
     "output_type": "stream",
     "text": [
      "2449\n",
      "<class 'int'>\n"
     ]
    }
   ],
   "source": [
    "# type function\n",
    "print(gdpPercapUSD)\n",
    "print(type(gdpPercapUSD))"
   ]
  },
  {
   "cell_type": "code",
   "execution_count": 8,
   "id": "54708494-6f3d-442d-9e91-737233633570",
   "metadata": {
    "tags": []
   },
   "outputs": [
    {
     "name": "stdout",
     "output_type": "stream",
     "text": [
      "Help on built-in function print in module builtins:\n",
      "\n",
      "print(*args, sep=' ', end='\\n', file=None, flush=False)\n",
      "    Prints the values to a stream, or to sys.stdout by default.\n",
      "    \n",
      "    sep\n",
      "      string inserted between values, default a space.\n",
      "    end\n",
      "      string appended after the last value, default a newline.\n",
      "    file\n",
      "      a file-like object (stream); defaults to the current sys.stdout.\n",
      "    flush\n",
      "      whether to forcibly flush the stream.\n",
      "\n"
     ]
    }
   ],
   "source": [
    "help(print)"
   ]
  },
  {
   "cell_type": "code",
   "execution_count": 10,
   "id": "c7218175-a3af-4727-bde0-612d8e589664",
   "metadata": {
    "tags": []
   },
   "outputs": [
    {
     "name": "stdout",
     "output_type": "stream",
     "text": [
      "2449 is 2449\n"
     ]
    }
   ],
   "source": [
    "print(gdpPercapUSD, \"is\",gdpPercapUSD)"
   ]
  },
  {
   "cell_type": "code",
   "execution_count": 11,
   "id": "7ce2404c-650e-40e6-8f50-0164f491e9e8",
   "metadata": {
    "tags": []
   },
   "outputs": [],
   "source": [
    "\n",
    "name = \"ruben\"\n",
    "age = 34\n",
    "length = 183.5"
   ]
  },
  {
   "cell_type": "code",
   "execution_count": 12,
   "id": "8db310c9-defb-423f-89cf-a823cdfa4560",
   "metadata": {
    "tags": []
   },
   "outputs": [
    {
     "name": "stdout",
     "output_type": "stream",
     "text": [
      "<class 'str'>\n"
     ]
    }
   ],
   "source": [
    "print(type(name))"
   ]
  },
  {
   "cell_type": "code",
   "execution_count": null,
   "id": "58c4e503-3b2f-4aa0-b3fd-1a4ecf4e6203",
   "metadata": {},
   "outputs": [],
   "source": []
  }
 ],
 "metadata": {
  "kernelspec": {
   "display_name": "Python 3 (ipykernel)",
   "language": "python",
   "name": "python3"
  },
  "language_info": {
   "codemirror_mode": {
    "name": "ipython",
    "version": 3
   },
   "file_extension": ".py",
   "mimetype": "text/x-python",
   "name": "python",
   "nbconvert_exporter": "python",
   "pygments_lexer": "ipython3",
   "version": "3.11.5"
  }
 },
 "nbformat": 4,
 "nbformat_minor": 5
}
