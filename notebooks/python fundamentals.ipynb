{
 "cells": [
  {
   "cell_type": "code",
   "execution_count": 1,
   "id": "175b23e1-f53d-4724-b4f7-0ec2ccf0188e",
   "metadata": {
    "tags": []
   },
   "outputs": [],
   "source": [
    "## python fundamentals"
   ]
  },
  {
   "cell_type": "code",
   "execution_count": 2,
   "id": "29428aa7-ca2d-4454-b73c-944e2b5e8a84",
   "metadata": {
    "tags": []
   },
   "outputs": [],
   "source": [
    "# variables\n",
    "gdpPercapUSD = 2449\n"
   ]
  },
  {
   "cell_type": "code",
   "execution_count": 3,
   "id": "cc747f20-5f3c-4841-910f-00b2e0cb0e27",
   "metadata": {
    "tags": []
   },
   "outputs": [
    {
     "name": "stdout",
     "output_type": "stream",
     "text": [
      "2449\n"
     ]
    }
   ],
   "source": [
    "# print function\n",
    "print(gdpPercapUSD)"
   ]
  },
  {
   "cell_type": "code",
   "execution_count": 4,
   "id": "0b549da1-982e-42b7-95f3-0f1140021a47",
   "metadata": {
    "tags": []
   },
   "outputs": [
    {
     "ename": "NameError",
     "evalue": "name 'GdpPercapUSD' is not defined",
     "output_type": "error",
     "traceback": [
      "\u001b[1;31m---------------------------------------------------------------------------\u001b[0m",
      "\u001b[1;31mNameError\u001b[0m                                 Traceback (most recent call last)",
      "Cell \u001b[1;32mIn[4], line 2\u001b[0m\n\u001b[0;32m      1\u001b[0m \u001b[38;5;66;03m# variables are case sensitive\u001b[39;00m\n\u001b[1;32m----> 2\u001b[0m \u001b[38;5;28mprint\u001b[39m(GdpPercapUSD)\n",
      "\u001b[1;31mNameError\u001b[0m: name 'GdpPercapUSD' is not defined"
     ]
    }
   ],
   "source": [
    "# variables are case sensitive\n",
    "print(GdpPercapUSD)"
   ]
  },
  {
   "cell_type": "code",
   "execution_count": 5,
   "id": "5ababa2c-d813-4e9b-8a28-e3208723b966",
   "metadata": {
    "tags": []
   },
   "outputs": [],
   "source": [
    "gpdpercap_1990 = 5471"
   ]
  },
  {
   "cell_type": "code",
   "execution_count": 6,
   "id": "5b7b38c1-cf97-4f5a-bf9a-0400295c058d",
   "metadata": {
    "tags": []
   },
   "outputs": [
    {
     "ename": "SyntaxError",
     "evalue": "invalid decimal literal (812309066.py, line 1)",
     "output_type": "error",
     "traceback": [
      "\u001b[1;36m  Cell \u001b[1;32mIn[6], line 1\u001b[1;36m\u001b[0m\n\u001b[1;33m    1990_gdppercap = 5471\u001b[0m\n\u001b[1;37m        ^\u001b[0m\n\u001b[1;31mSyntaxError\u001b[0m\u001b[1;31m:\u001b[0m invalid decimal literal\n"
     ]
    }
   ],
   "source": [
    "1990_gdppercap = 5471"
   ]
  },
  {
   "cell_type": "code",
   "execution_count": 7,
   "id": "570fdcab-59ca-4be8-b061-6202d299f22b",
   "metadata": {
    "tags": []
   },
   "outputs": [
    {
     "name": "stdout",
     "output_type": "stream",
     "text": [
      "2449\n",
      "<class 'int'>\n"
     ]
    }
   ],
   "source": [
    "# type function\n",
    "print(gdpPercapUSD)\n",
    "print(type(gdpPercapUSD))"
   ]
  },
  {
   "cell_type": "code",
   "execution_count": 8,
   "id": "54708494-6f3d-442d-9e91-737233633570",
   "metadata": {
    "tags": []
   },
   "outputs": [
    {
     "name": "stdout",
     "output_type": "stream",
     "text": [
      "Help on built-in function print in module builtins:\n",
      "\n",
      "print(*args, sep=' ', end='\\n', file=None, flush=False)\n",
      "    Prints the values to a stream, or to sys.stdout by default.\n",
      "    \n",
      "    sep\n",
      "      string inserted between values, default a space.\n",
      "    end\n",
      "      string appended after the last value, default a newline.\n",
      "    file\n",
      "      a file-like object (stream); defaults to the current sys.stdout.\n",
      "    flush\n",
      "      whether to forcibly flush the stream.\n",
      "\n"
     ]
    }
   ],
   "source": [
    "help(print)"
   ]
  },
  {
   "cell_type": "code",
   "execution_count": 10,
   "id": "c7218175-a3af-4727-bde0-612d8e589664",
   "metadata": {
    "tags": []
   },
   "outputs": [
    {
     "name": "stdout",
     "output_type": "stream",
     "text": [
      "2449 is 2449\n"
     ]
    }
   ],
   "source": [
    "print(gdpPercapUSD, \"is\",gdpPercapUSD)"
   ]
  },
  {
   "cell_type": "code",
   "execution_count": 11,
   "id": "7ce2404c-650e-40e6-8f50-0164f491e9e8",
   "metadata": {
    "tags": []
   },
   "outputs": [],
   "source": [
    "\n",
    "name = \"ruben\"\n",
    "age = 34\n",
    "length = 183.5"
   ]
  },
  {
   "cell_type": "code",
   "execution_count": 12,
   "id": "8db310c9-defb-423f-89cf-a823cdfa4560",
   "metadata": {
    "tags": []
   },
   "outputs": [
    {
     "name": "stdout",
     "output_type": "stream",
     "text": [
      "<class 'str'>\n"
     ]
    }
   ],
   "source": [
    "print(type(name))"
   ]
  },
  {
   "cell_type": "code",
   "execution_count": 13,
   "id": "58c4e503-3b2f-4aa0-b3fd-1a4ecf4e6203",
   "metadata": {
    "tags": []
   },
   "outputs": [
    {
     "name": "stdout",
     "output_type": "stream",
     "text": [
      "<class 'float'>\n"
     ]
    }
   ],
   "source": [
    "print(type(length))"
   ]
  },
  {
   "cell_type": "code",
   "execution_count": 14,
   "id": "8fb283dd-6b10-4aaf-9e5e-080c3f122471",
   "metadata": {
    "tags": []
   },
   "outputs": [],
   "source": [
    "max_age = 33"
   ]
  },
  {
   "cell_type": "code",
   "execution_count": 15,
   "id": "e188977c-98a7-49a8-9ea6-4a9eb09bfdd3",
   "metadata": {
    "tags": []
   },
   "outputs": [
    {
     "name": "stdout",
     "output_type": "stream",
     "text": [
      "67\n",
      "<class 'int'>\n"
     ]
    }
   ],
   "source": [
    "total_age = age + max_age\n",
    "print(total_age)\n",
    "print(type(total_age))"
   ]
  },
  {
   "cell_type": "code",
   "execution_count": 16,
   "id": "1bed71c8-221c-4c89-8f4e-eaf1fe923f05",
   "metadata": {
    "tags": []
   },
   "outputs": [],
   "source": [
    "stephanies_age = \"32\""
   ]
  },
  {
   "cell_type": "code",
   "execution_count": 17,
   "id": "e31a6f1f-cc31-4f4e-81b9-1b73771bcd18",
   "metadata": {
    "tags": []
   },
   "outputs": [
    {
     "ename": "TypeError",
     "evalue": "unsupported operand type(s) for +: 'int' and 'str'",
     "output_type": "error",
     "traceback": [
      "\u001b[1;31m---------------------------------------------------------------------------\u001b[0m",
      "\u001b[1;31mTypeError\u001b[0m                                 Traceback (most recent call last)",
      "Cell \u001b[1;32mIn[17], line 1\u001b[0m\n\u001b[1;32m----> 1\u001b[0m total_age \u001b[38;5;241m=\u001b[39m age \u001b[38;5;241m+\u001b[39m max_age \u001b[38;5;241m+\u001b[39m stephanies_age\n",
      "\u001b[1;31mTypeError\u001b[0m: unsupported operand type(s) for +: 'int' and 'str'"
     ]
    }
   ],
   "source": [
    "total_age = age + max_age + stephanies_age"
   ]
  },
  {
   "cell_type": "code",
   "execution_count": 18,
   "id": "0edbec2b-c658-4f8b-8239-f91687254df3",
   "metadata": {
    "tags": []
   },
   "outputs": [
    {
     "name": "stdout",
     "output_type": "stream",
     "text": [
      "<class 'str'>\n"
     ]
    }
   ],
   "source": [
    "print(type(stephanies_age))"
   ]
  },
  {
   "cell_type": "code",
   "execution_count": 20,
   "id": "6de937ae-30dd-46d4-9067-eae624a3d4bf",
   "metadata": {
    "tags": []
   },
   "outputs": [
    {
     "name": "stdout",
     "output_type": "stream",
     "text": [
      "2449\n"
     ]
    }
   ],
   "source": [
    "print(gdpPercapUSD)"
   ]
  },
  {
   "cell_type": "code",
   "execution_count": 21,
   "id": "1ef3d761-f68f-49a7-bcfd-aa21bf3e9c65",
   "metadata": {
    "tags": []
   },
   "outputs": [],
   "source": [
    "gdpPercapUSD = 2449.5"
   ]
  },
  {
   "cell_type": "code",
   "execution_count": 22,
   "id": "3d018a3f-86b5-4f84-9e78-010b0c075b07",
   "metadata": {
    "tags": []
   },
   "outputs": [
    {
     "name": "stdout",
     "output_type": "stream",
     "text": [
      "2449.5\n"
     ]
    }
   ],
   "source": [
    "print(gdpPercapUSD)"
   ]
  },
  {
   "cell_type": "code",
   "execution_count": 23,
   "id": "41a5f778-516b-4064-8095-488fdd2777d8",
   "metadata": {
    "tags": []
   },
   "outputs": [
    {
     "name": "stdout",
     "output_type": "stream",
     "text": [
      "<class 'float'>\n"
     ]
    }
   ],
   "source": [
    "print(type(gdpPercapUSD))"
   ]
  },
  {
   "cell_type": "code",
   "execution_count": 25,
   "id": "67415569-e203-4efa-8938-d0d77720877e",
   "metadata": {
    "tags": []
   },
   "outputs": [
    {
     "name": "stdout",
     "output_type": "stream",
     "text": [
      "1886.115\n"
     ]
    }
   ],
   "source": [
    "gpdPercapGBP = gdpPercapUSD * 0.77\n",
    "print(gpdPercapGBP)"
   ]
  },
  {
   "cell_type": "code",
   "execution_count": null,
   "id": "53b81f63-4a43-40d3-8635-5067840c34ff",
   "metadata": {},
   "outputs": [],
   "source": [
    "print(\"gdp per capita in USD:\", g"
   ]
  }
 ],
 "metadata": {
  "kernelspec": {
   "display_name": "Python 3 (ipykernel)",
   "language": "python",
   "name": "python3"
  },
  "language_info": {
   "codemirror_mode": {
    "name": "ipython",
    "version": 3
   },
   "file_extension": ".py",
   "mimetype": "text/x-python",
   "name": "python",
   "nbconvert_exporter": "python",
   "pygments_lexer": "ipython3",
   "version": "3.11.5"
  }
 },
 "nbformat": 4,
 "nbformat_minor": 5
}
