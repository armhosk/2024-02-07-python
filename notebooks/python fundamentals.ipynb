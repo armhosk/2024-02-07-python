{
 "cells": [
  {
   "cell_type": "code",
   "execution_count": 1,
   "id": "175b23e1-f53d-4724-b4f7-0ec2ccf0188e",
   "metadata": {
    "tags": []
   },
   "outputs": [],
   "source": [
    "## python fundamentals"
   ]
  },
  {
   "cell_type": "code",
   "execution_count": null,
   "id": "29428aa7-ca2d-4454-b73c-944e2b5e8a84",
   "metadata": {},
   "outputs": [],
   "source": [
    "# variables\n",
    "gdpPercapUSD = 2449\n"
   ]
  },
  {
   "cell_type": "code",
   "execution_count": null,
   "id": "cc747f20-5f3c-4841-910f-00b2e0cb0e27",
   "metadata": {},
   "outputs": [],
   "source": []
  },
  {
   "cell_type": "code",
   "execution_count": null,
   "id": "0b549da1-982e-42b7-95f3-0f1140021a47",
   "metadata": {},
   "outputs": [],
   "source": []
  },
  {
   "cell_type": "code",
   "execution_count": null,
   "id": "5ababa2c-d813-4e9b-8a28-e3208723b966",
   "metadata": {},
   "outputs": [],
   "source": []
  },
  {
   "cell_type": "code",
   "execution_count": null,
   "id": "5b7b38c1-cf97-4f5a-bf9a-0400295c058d",
   "metadata": {},
   "outputs": [],
   "source": []
  },
  {
   "cell_type": "code",
   "execution_count": null,
   "id": "570fdcab-59ca-4be8-b061-6202d299f22b",
   "metadata": {},
   "outputs": [],
   "source": []
  },
  {
   "cell_type": "code",
   "execution_count": null,
   "id": "54708494-6f3d-442d-9e91-737233633570",
   "metadata": {},
   "outputs": [],
   "source": []
  },
  {
   "cell_type": "code",
   "execution_count": null,
   "id": "c7218175-a3af-4727-bde0-612d8e589664",
   "metadata": {},
   "outputs": [],
   "source": []
  }
 ],
 "metadata": {
  "kernelspec": {
   "display_name": "Python 3 (ipykernel)",
   "language": "python",
   "name": "python3"
  },
  "language_info": {
   "codemirror_mode": {
    "name": "ipython",
    "version": 3
   },
   "file_extension": ".py",
   "mimetype": "text/x-python",
   "name": "python",
   "nbconvert_exporter": "python",
   "pygments_lexer": "ipython3",
   "version": "3.11.5"
  }
 },
 "nbformat": 4,
 "nbformat_minor": 5
}
