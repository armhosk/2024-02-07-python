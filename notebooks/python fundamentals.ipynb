{
 "cells": [
  {
   "cell_type": "code",
   "execution_count": 1,
   "id": "107b75d2-0ae2-490e-909a-e4e5addf7587",
   "metadata": {
    "tags": []
   },
   "outputs": [],
   "source": [
    "# first line"
   ]
  },
  {
   "cell_type": "code",
   "execution_count": null,
   "id": "a6215070-5d34-47c7-abd5-4e49b46d3c52",
   "metadata": {},
   "outputs": [],
   "source": [
    "# "
   ]
  },
  {
   "cell_type": "code",
   "execution_count": null,
   "id": "d389a984-6ac6-4122-beae-c1df0b3e988a",
   "metadata": {},
   "outputs": [],
   "source": []
  }
 ],
 "metadata": {
  "kernelspec": {
   "display_name": "Python 3 (ipykernel)",
   "language": "python",
   "name": "python3"
  },
  "language_info": {
   "codemirror_mode": {
    "name": "ipython",
    "version": 3
   },
   "file_extension": ".py",
   "mimetype": "text/x-python",
   "name": "python",
   "nbconvert_exporter": "python",
   "pygments_lexer": "ipython3",
   "version": "3.11.5"
  }
 },
 "nbformat": 4,
 "nbformat_minor": 5
}
